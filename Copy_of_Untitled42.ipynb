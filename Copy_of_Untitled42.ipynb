{
  "nbformat": 4,
  "nbformat_minor": 0,
  "metadata": {
    "colab": {
      "name": "Copy of Untitled4.ipynb",
      "provenance": [],
      "authorship_tag": "ABX9TyOQ2JrNOYPdKMa11CBCkfV2",
      "include_colab_link": true
    },
    "kernelspec": {
      "name": "python3",
      "display_name": "Python 3"
    },
    "language_info": {
      "name": "python"
    }
  },
  "cells": [
    {
      "cell_type": "markdown",
      "metadata": {
        "id": "view-in-github",
        "colab_type": "text"
      },
      "source": [
        "<a href=\"https://colab.research.google.com/github/BhuvaneswariL/BhuvaneswariL/blob/main/Copy_of_Untitled42.ipynb\" target=\"_parent\"><img src=\"https://colab.research.google.com/assets/colab-badge.svg\" alt=\"Open In Colab\"/></a>"
      ]
    },
    {
      "cell_type": "code",
      "execution_count": null,
      "metadata": {
        "colab": {
          "base_uri": "https://localhost:8080/"
        },
        "id": "jJPrvzq22dPN",
        "outputId": "683c67c8-d6e0-4504-e7f6-7af723b67673"
      },
      "outputs": [
        {
          "output_type": "stream",
          "name": "stdout",
          "text": [
            "12\n",
            "bhuvana\n"
          ]
        }
      ],
      "source": [
        "#declaring a varible\n",
        "number=12\n",
        "name='bhuvana'\n",
        "print(number)\n",
        "print(name)"
      ]
    },
    {
      "cell_type": "code",
      "source": [
        "#assigning a value to multiple variables\n",
        "x=y=z='python is a easy language'\n",
        "print(x)\n",
        "print(y)\n",
        "print(z)"
      ],
      "metadata": {
        "colab": {
          "base_uri": "https://localhost:8080/"
        },
        "id": "b9uIQFa33PaV",
        "outputId": "8e27b9be-17e6-4097-cf84-80bcd3081d92"
      },
      "execution_count": null,
      "outputs": [
        {
          "output_type": "stream",
          "name": "stdout",
          "text": [
            "python is a easy language\n",
            "python is a easy language\n",
            "python is a easy language\n"
          ]
        }
      ]
    },
    {
      "cell_type": "code",
      "source": [
        "#assigning multiple values to multiple variables\n",
        "x,y,z='python',3,'value'\n",
        "print(x)\n",
        "print(y)\n",
        "print(z)"
      ],
      "metadata": {
        "colab": {
          "base_uri": "https://localhost:8080/"
        },
        "id": "dKft672J3liq",
        "outputId": "2353e4ab-7ea9-4d1d-e23b-8d86d9412c19"
      },
      "execution_count": null,
      "outputs": [
        {
          "output_type": "stream",
          "name": "stdout",
          "text": [
            "python\n",
            "3\n",
            "value\n"
          ]
        }
      ]
    },
    {
      "cell_type": "code",
      "source": [
        "#datatype - number(float)\n",
        "x=3.55\n",
        "print(x, 'is type of',type(x))"
      ],
      "metadata": {
        "colab": {
          "base_uri": "https://localhost:8080/"
        },
        "id": "8Yw5K6kL4X_E",
        "outputId": "304434df-e200-4151-c839-97047e0e0928"
      },
      "execution_count": null,
      "outputs": [
        {
          "output_type": "stream",
          "name": "stdout",
          "text": [
            "3.55 is type of <class 'float'>\n"
          ]
        }
      ]
    },
    {
      "cell_type": "code",
      "source": [
        "#datatype - number(integer)\n",
        "y=90\n",
        "print(y, 'is type of',type(y))"
      ],
      "metadata": {
        "colab": {
          "base_uri": "https://localhost:8080/"
        },
        "id": "rFNqMAy45HXD",
        "outputId": "950c9408-ad85-4e50-d09a-7768405ef1f0"
      },
      "execution_count": null,
      "outputs": [
        {
          "output_type": "stream",
          "name": "stdout",
          "text": [
            "90 is type of <class 'int'>\n"
          ]
        }
      ]
    },
    {
      "cell_type": "code",
      "source": [
        "#datatype - number(complex)\n",
        "z=3+5j\n",
        "print(z, 'is type of',type(z))"
      ],
      "metadata": {
        "colab": {
          "base_uri": "https://localhost:8080/"
        },
        "id": "M2AZckt76Ftf",
        "outputId": "97ff3313-aa4a-4442-9071-1bddf18590ca"
      },
      "execution_count": null,
      "outputs": [
        {
          "output_type": "stream",
          "name": "stdout",
          "text": [
            "(3+5j) is type of <class 'complex'>\n"
          ]
        }
      ]
    },
    {
      "cell_type": "code",
      "source": [
        "#datatype- string(concatenating a string)\n",
        "string1='this is lab hour and '\n",
        "string2='it is soon going to complete'\n",
        "print(string1+string2)"
      ],
      "metadata": {
        "colab": {
          "base_uri": "https://localhost:8080/"
        },
        "id": "sVWNhf0I6fNb",
        "outputId": "59bdb279-a4ab-4076-ff32-dfdbe2cfa079"
      },
      "execution_count": null,
      "outputs": [
        {
          "output_type": "stream",
          "name": "stdout",
          "text": [
            "this is lab hour and it is soon going to complete\n"
          ]
        }
      ]
    },
    {
      "cell_type": "code",
      "source": [
        "#datatype - string(repetiting a string)\n",
        "string='python lab '\n",
        "print(string*5)\n"
      ],
      "metadata": {
        "colab": {
          "base_uri": "https://localhost:8080/"
        },
        "id": "K-lq7CHs7q49",
        "outputId": "e051b31b-5ac4-4d9f-9e53-985060447bb9"
      },
      "execution_count": 1,
      "outputs": [
        {
          "output_type": "stream",
          "name": "stdout",
          "text": [
            "python lab python lab python lab python lab python lab \n"
          ]
        }
      ]
    },
    {
      "cell_type": "code",
      "source": [
        "#datatype - string(slicing a string)\n",
        "string='american football'\n",
        "print(string[2:9])"
      ],
      "metadata": {
        "colab": {
          "base_uri": "https://localhost:8080/"
        },
        "id": "_oDO4n22cCR1",
        "outputId": "48918ad6-4100-462a-d14d-61e8bdafed77"
      },
      "execution_count": 3,
      "outputs": [
        {
          "output_type": "stream",
          "name": "stdout",
          "text": [
            "erican \n"
          ]
        }
      ]
    },
    {
      "cell_type": "code",
      "source": [
        "#datatype- string(slicing but using negative)\n",
        "string='american football'\n",
        "print(string[-3])"
      ],
      "metadata": {
        "colab": {
          "base_uri": "https://localhost:8080/"
        },
        "id": "6pJgHYDRerof",
        "outputId": "4cec2684-9935-47f9-ae72-48c487f252be"
      },
      "execution_count": 4,
      "outputs": [
        {
          "output_type": "stream",
          "name": "stdout",
          "text": [
            "a\n"
          ]
        }
      ]
    }
  ]
}