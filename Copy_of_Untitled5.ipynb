{
  "nbformat": 4,
  "nbformat_minor": 0,
  "metadata": {
    "colab": {
      "name": "Copy of Untitled5.ipynb",
      "provenance": [],
      "authorship_tag": "ABX9TyPxy2cdQ/eCYbM9W+9Piujc",
      "include_colab_link": true
    },
    "kernelspec": {
      "name": "python3",
      "display_name": "Python 3"
    },
    "language_info": {
      "name": "python"
    }
  },
  "cells": [
    {
      "cell_type": "markdown",
      "metadata": {
        "id": "view-in-github",
        "colab_type": "text"
      },
      "source": [
        "<a href=\"https://colab.research.google.com/github/BhuvaneswariL/BhuvaneswariL/blob/main/Copy_of_Untitled5.ipynb\" target=\"_parent\"><img src=\"https://colab.research.google.com/assets/colab-badge.svg\" alt=\"Open In Colab\"/></a>"
      ]
    },
    {
      "cell_type": "code",
      "execution_count": null,
      "metadata": {
        "id": "tEi9w3_3Nag2"
      },
      "outputs": [],
      "source": [
        "#dataset importing from local machine\n",
        "from google.colab import files\n",
        "upload = files.upload()\n",
        "import pandas as pd\n",
        "import numpy as np\n",
        "import matplotlib.pyplot as plt\n",
        "dataset = pd.read_csv('Salary_Data.csv')\n",
        "x=dataset.iloc[:,0:-1].values\n",
        "y=dataset.iloc[:,1].values\n",
        "from sklearn.model_selection import train_test_split\n",
        "x_train,x_test,y_train,y_test=train_test_split(x,y,test_size=.30,random_state=0)\n",
        "from sklearn.linear_model import LinearRegression\n",
        "regress = LinearRegression()\n",
        "regress.fit(x_train,y_train)\n",
        "y_pred=regress.predict(x_test)\n",
        "plt.title('simple linear regression')\n",
        "plt.xlabel('experience')\n",
        "plt.ylabel('salary')\n",
        "plt.scatter(x_test,y_train,color='red')\n",
        "plt.plot(x_train,regress.predict(x_train),color='blue')\n",
        "plt.show()\n",
        "plt.title('simple linear regression with test data')\n",
        "plt.xlabel('experience')\n",
        "plt.ylabel('salary')\n",
        "plt.scatter(x_test,y_test,color='red')\n",
        "plt.plot(x_test,regress.predict(x_test),color='blue')\n",
        "plt.show()\n",
        "plt.title('simple linear regression with test data and train slope')\n",
        "plt.xlabel('experience')\n",
        "plt.ylabel('salary')\n",
        "plt.scatter(x_test,y_test,color='red')\n",
        "plt.plot(x_train,regress.predict(x_train),color='blue')\n",
        "plt.show()\n",
        "\n",
        "\n"
      ]
    }
  ]
}