{
  "nbformat": 4,
  "nbformat_minor": 0,
  "metadata": {
    "colab": {
      "name": "lab.ipynb",
      "provenance": [],
      "collapsed_sections": [],
      "authorship_tag": "ABX9TyPVt8gyvlLKJLQLVu1eFCat",
      "include_colab_link": true
    },
    "kernelspec": {
      "name": "python3",
      "display_name": "Python 3"
    },
    "language_info": {
      "name": "python"
    }
  },
  "cells": [
    {
      "cell_type": "markdown",
      "metadata": {
        "id": "view-in-github",
        "colab_type": "text"
      },
      "source": [
        "<a href=\"https://colab.research.google.com/github/BhuvaneswariL/python-lab/blob/main/lab.ipynb\" target=\"_parent\"><img src=\"https://colab.research.google.com/assets/colab-badge.svg\" alt=\"Open In Colab\"/></a>"
      ]
    },
    {
      "cell_type": "code",
      "execution_count": null,
      "metadata": {
        "colab": {
          "base_uri": "https://localhost:8080/"
        },
        "id": "SwRDS4y8qYvT",
        "outputId": "d3c1c662-4f76-4402-9465-c0d3991d7717"
      },
      "outputs": [
        {
          "output_type": "stream",
          "name": "stdout",
          "text": [
            "enter number 1 : 45\n",
            "enter number 2 : 48\n",
            "45 + 48 = 93\n"
          ]
        }
      ],
      "source": [
        "#assignment operator\n",
        "value1=eval(input('enter number 1 : '))\n",
        "value2=eval(input('enter number 2 : '))\n",
        "sum=value1+value2\n",
        "print(value1,'+',value2,'=',sum)\n",
        "\n"
      ]
    },
    {
      "cell_type": "code",
      "source": [
        "#arithmetic operator\n",
        "x=30\n",
        "y=80\n",
        "print('x+y=', x+y)\n",
        "print('x-y=', x-y)\n",
        "print('x*y=', x*y)\n",
        "print('x/y=', x/y)\n",
        "print('x//y=', x//y)\n",
        "print('x**y=', x**y)"
      ],
      "metadata": {
        "colab": {
          "base_uri": "https://localhost:8080/"
        },
        "id": "ozQOkk2psSoK",
        "outputId": "ab658a0b-fa9e-4d28-df9f-f05b64b9a0a8"
      },
      "execution_count": null,
      "outputs": [
        {
          "output_type": "stream",
          "name": "stdout",
          "text": [
            "x+y= 110\n",
            "x-y= -50\n",
            "x*y= 2400\n",
            "x/y= 0.375\n",
            "x//y= 0\n",
            "x**y= 14780882941434592331608321020638329760100000000000000000000000000000000000000000000000000000000000000000000000000000000\n"
          ]
        }
      ]
    },
    {
      "cell_type": "code",
      "source": [
        "#arithmetic operations\n",
        "print(\"Choice 1: Add, 2:Sub, 3:Div, 4:Mul, 5:Quit\")\n",
        "n1=input(\"Enter the choice of operation :\")\n",
        "n =int(n1)\n",
        "if(n==1):\n",
        "  print(\"You have chosen addition Option:\")\n",
        "  a1=input(\"Enter the value for A: \")\n",
        "  b1=input(\"Enter the value for B: \")\n",
        "  a=int(a1)\n",
        "  b=int(b1)\n",
        "  c=a+b\n",
        "  print(\"The result\",a,\"+\",b,\"=\",c)\n",
        "elif(n==2):\n",
        "  print('you have chosen subtraction option:')\n",
        "  a1=input('enter the value for A: ')\n",
        "  b1=input('enter the value for B: ')\n",
        "  a=int(a1)\n",
        "  b=int(b1)\n",
        "  c=a-b\n",
        "  print('the result',a,'-',b,'=',c)\n",
        "elif(n==3):\n",
        "  print('you have chosen multiplication option:')\n",
        "  a1=input('enter the value for A: ')\n",
        "  a2=input('enter the value for B: ')\n",
        "  a=int(a1)\n",
        "  b=int(a2)\n",
        "  c=a*b\n",
        "  print('the result',a,'*',b,'=',c)\n",
        "elif(n==4):\n",
        "  print('you have chosen division option:')\n",
        "  a1=input('enter the value for A: ')\n",
        "  a2=input('enter the value for B: ')\n",
        "  a=int(a1)\n",
        "  b=int(b1)\n",
        "  c=a/b\n",
        "  print('the result',a,'/',b,'=',c)\n",
        "elif(n==5):\n",
        "  print('you have given wrong option:')\n",
        "  exit()"
      ],
      "metadata": {
        "colab": {
          "base_uri": "https://localhost:8080/"
        },
        "id": "mLC_lPPIxhE5",
        "outputId": "6db2bfe0-6940-4b1c-b173-9d28b7a7849c"
      },
      "execution_count": null,
      "outputs": [
        {
          "output_type": "stream",
          "name": "stdout",
          "text": [
            "Choice 1: Add, 2:Sub, 3:Div, 4:Mul, 5:Quit\n",
            "Enter the choice of operation :1\n",
            "You have chosen addition Option:\n",
            "Enter the value for A: 7\n",
            "Enter the value for B: 5\n",
            "The result 7 + 5 = 12\n"
          ]
        }
      ]
    },
    {
      "cell_type": "code",
      "source": [
        "#fibonacci series\n",
        "print('fibonacci series')\n",
        "n1 =input('enter the number:')\n",
        "n=int(n1)\n",
        "if(n>0):\n",
        "  f=0\n",
        "  s=1\n",
        "  i=0\n",
        "  next = 0 \n",
        "  while (1):\n",
        "    print('\\n\\n*************************************')\n",
        "    for i in range (n+1):\n",
        "       if(i<=1):\n",
        "         print(i)\n",
        "       else:\n",
        "        next=f+s\n",
        "        f=s\n",
        "        s=next\n",
        "        print(next)\n",
        "    i=i+1\n",
        "    break\n",
        "  else:\n",
        "    print('you have entered the wrong input',n)\n",
        "      \n"
      ],
      "metadata": {
        "id": "41h6MDJW5meB"
      },
      "execution_count": null,
      "outputs": []
    },
    {
      "cell_type": "code",
      "source": [
        "#if else statement\n",
        "age=int(input('enter your age:'))\n",
        "if age>=18:\n",
        "  print('you are eligible to vote')\n",
        "else:\n",
        "  print('you are illegible to vote')"
      ],
      "metadata": {
        "id": "yt1pb72sS17_",
        "outputId": "1dd7f22a-1551-49d1-ba0c-ebd4f3f58741",
        "colab": {
          "base_uri": "https://localhost:8080/"
        }
      },
      "execution_count": 5,
      "outputs": [
        {
          "output_type": "stream",
          "name": "stdout",
          "text": [
            "enter your age:20\n",
            "you are eligible to vote\n"
          ]
        }
      ]
    },
    {
      "cell_type": "code",
      "source": [
        "#elif statement\n",
        "value = eval(input('please enter any input from 0 to 3:'))\n",
        "if value<0:\n",
        "  print('too small')\n",
        "elif value==0:\n",
        "  print('null')\n",
        "elif value==1:\n",
        "  print('one')\n",
        "elif value==2:\n",
        "  print('two')\n",
        "elif value==3:\n",
        "  print('three')\n",
        "else:\n",
        "  print('too large')\n",
        "print('done')\n"
      ],
      "metadata": {
        "id": "OwRKBBGVXioo",
        "outputId": "d8545eeb-233e-4dd9-bc84-2e9383a3d906",
        "colab": {
          "base_uri": "https://localhost:8080/"
        }
      },
      "execution_count": 6,
      "outputs": [
        {
          "output_type": "stream",
          "name": "stdout",
          "text": [
            "please enter any input from 0 to 3:3\n",
            "three\n",
            "done\n"
          ]
        }
      ]
    },
    {
      "cell_type": "code",
      "source": [
        "#nested if statement\n",
        "value = eval(input('please enter any integer from 0 to 10:'))\n",
        "if value>=0:\n",
        "  if value<=10:\n",
        "    print('the given number is in range')"
      ],
      "metadata": {
        "id": "WNRD5RYLbAmJ",
        "outputId": "0111cbe7-f7d4-4c0e-e6ff-f29ed4e1a777",
        "colab": {
          "base_uri": "https://localhost:8080/"
        }
      },
      "execution_count": 9,
      "outputs": [
        {
          "output_type": "stream",
          "name": "stdout",
          "text": [
            "please enter any integer from 0 to 10:6\n",
            "the given number is in range\n"
          ]
        }
      ]
    },
    {
      "cell_type": "code",
      "source": [
        "#nested if statement using if else\n",
        "value =eval(input('please enter any integer from0 to 20:'))\n",
        "if value>=0:\n",
        "  if value<=20:\n",
        "    print('the number is in range')\n",
        "  else:\n",
        "    print('the number is too large')\n",
        "else:\n",
        "  print('the number is too small')"
      ],
      "metadata": {
        "id": "u5J2ps0YcENq",
        "outputId": "7e0e246b-87d2-468f-e09c-622b3a9189c5",
        "colab": {
          "base_uri": "https://localhost:8080/"
        }
      },
      "execution_count": 11,
      "outputs": [
        {
          "output_type": "stream",
          "name": "stdout",
          "text": [
            "please enter any integer from0 to 20:88\n",
            "the number is too large\n"
          ]
        }
      ]
    },
    {
      "cell_type": "code",
      "source": [
        "#while statement\n",
        "entry=0\n",
        "sum=0\n",
        "print('enter the numbers to positive,negative numbers end list')\n",
        "while entry>=0:\n",
        "  entry=eval(input())\n",
        "  if entry>=0:\n",
        "    sum += entry \n",
        "print('sum= ',sum)"
      ],
      "metadata": {
        "id": "aXEeofKJc95J",
        "outputId": "7aba38a6-1057-4358-ba12-aa9448e9363c",
        "colab": {
          "base_uri": "https://localhost:8080/"
        }
      },
      "execution_count": 12,
      "outputs": [
        {
          "output_type": "stream",
          "name": "stdout",
          "text": [
            "enter the numbers to positive,negative numbers end list\n",
            "8\n",
            "-5\n",
            "sum=  8\n"
          ]
        }
      ]
    },
    {
      "cell_type": "code",
      "source": [
        "#indefinite loop\n",
        "done = False\n",
        "while not done:\n",
        "  entry = eval(input())\n",
        "  if entry==888:\n",
        "    done = True \n",
        "  else:\n",
        "    print(entry)"
      ],
      "metadata": {
        "id": "IU7nF8vUeUDK",
        "outputId": "4468a58d-d45b-44a0-9fe0-23cc319bf6ac",
        "colab": {
          "base_uri": "https://localhost:8080/"
        }
      },
      "execution_count": 14,
      "outputs": [
        {
          "name": "stdout",
          "output_type": "stream",
          "text": [
            "888\n"
          ]
        }
      ]
    },
    {
      "cell_type": "code",
      "source": [
        ""
      ],
      "metadata": {
        "id": "U2L2C0PBhl_r"
      },
      "execution_count": null,
      "outputs": []
    },
    {
      "cell_type": "code",
      "source": [
        "#infinite loop\n",
        "max=20\n",
        "n=1\n",
        "while n<=max:\n",
        "  factor=1\n",
        "  print(end=str(n) +': ')\n",
        "  while factor<=n:\n",
        "    if n % factor == 0:\n",
        "      print(factor, end=' ')\n",
        "      factor += 1\n",
        "  print()\n",
        "  n += 1\n",
        "  "
      ],
      "metadata": {
        "id": "r_PcB7_whmCL",
        "outputId": "a9ead658-51d8-4bbb-f337-d9e85c7c22af",
        "colab": {
          "base_uri": "https://localhost:8080/"
        }
      },
      "execution_count": null,
      "outputs": [
        {
          "output_type": "stream",
          "name": "stdout",
          "text": [
            "1: 1 \n",
            "2: 1 2 \n",
            "3: 1 "
          ]
        }
      ]
    },
    {
      "cell_type": "code",
      "source": [
        ""
      ],
      "metadata": {
        "id": "sbjSAuxnjPBU"
      },
      "execution_count": null,
      "outputs": []
    }
  ]
}